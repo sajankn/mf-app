{
  "nbformat": 4,
  "nbformat_minor": 0,
  "metadata": {
    "colab": {
      "provenance": [],
      "authorship_tag": "ABX9TyOwzDYwpme2K4LPveApfTpe",
      "include_colab_link": true
    },
    "kernelspec": {
      "name": "python3",
      "display_name": "Python 3"
    },
    "language_info": {
      "name": "python"
    }
  },
  "cells": [
    {
      "cell_type": "markdown",
      "metadata": {
        "id": "view-in-github",
        "colab_type": "text"
      },
      "source": [
        "<a href=\"https://colab.research.google.com/github/sajankn/mf-app/blob/main/mf-app-hello-world.ipynb\" target=\"_parent\"><img src=\"https://colab.research.google.com/assets/colab-badge.svg\" alt=\"Open In Colab\"/></a>"
      ]
    },
    {
      "cell_type": "code",
      "execution_count": 1,
      "metadata": {
        "colab": {
          "base_uri": "https://localhost:8080/"
        },
        "id": "m5Jab4OKieY_",
        "outputId": "281321a8-fe55-4d07-aa8b-0488c38ced3f"
      },
      "outputs": [
        {
          "output_type": "stream",
          "name": "stdout",
          "text": [
            "Hello World\n",
            "Hello How are you doing\n"
          ]
        }
      ],
      "source": [
        "# prompt: Hello World Python code\n",
        "print(\"Hello World\")\n",
        "\n",
        "\n",
        "# This is common python code for testing\n",
        "print (\"Hello How are you doing\")"
      ]
    }
  ]
}